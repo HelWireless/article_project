{
 "cells": [
  {
   "cell_type": "code",
   "execution_count": 1,
   "metadata": {},
   "outputs": [],
   "source": [
    "import os\n",
    "import sys\n",
    "# 如果当前代码文件运行测试需要加入修改路径，避免出现后导包问题\n",
    "BASE_DIR = os.path.dirname(os.path.dirname(os.getcwd()))\n",
    "sys.path.insert(0, os.path.join(BASE_DIR))\n",
    "PYSPARK_PYTHON = \"/opt/anaconda3/envs/rec_sys/bin/python\"\n",
    "\n",
    "# 当存在多个版本时，不指定很可能会导致出错\n",
    "os.environ[\"PYSPARK_PYTHON\"] = PYSPARK_PYTHON\n",
    "os.environ[\"PYSPARK_DRIVER_PYTHON\"] = PYSPARK_PYTHON\n",
    "\n",
    "from offline import SparkSessionBase\n",
    "from pyspark.sql.functions import udf\n",
    "from pyspark.sql.types import StringType\n",
    "import pyspark.sql.functions as F\n",
    "import gc"
   ]
  },
  {
   "cell_type": "code",
   "execution_count": 2,
   "metadata": {},
   "outputs": [],
   "source": [
    "class OriginArticleData(SparkSessionBase):\n",
    "\n",
    "\n",
    "    SPARK_APP_NAME = \"mergeArticle\"\n",
    "    SPARK_URL = \"yarn\"\n",
    "    \n",
    "    ENABLE_HIVE_SUPPORT = True\n",
    "\n",
    "    def __init__(self):\n",
    "        self.spark = self._create_spark_session()"
   ]
  },
  {
   "cell_type": "code",
   "execution_count": 3,
   "metadata": {},
   "outputs": [],
   "source": [
    "oa = OriginArticleData()"
   ]
  },
  {
   "cell_type": "code",
   "execution_count": 4,
   "metadata": {},
   "outputs": [],
   "source": [
    "@udf(\"string\" ,StringType)\n",
    "def strip_n_udf(text):\n",
    "    if text:\n",
    "        processed_text = text.replace('\\n', '').replace('\\r', '')\n",
    "    else:\n",
    "        processed_text = \"unknow\"\n",
    "    return processed_text"
   ]
  },
  {
   "cell_type": "code",
   "execution_count": 5,
   "metadata": {},
   "outputs": [],
   "source": [
    "oa.spark.sql(\"use hbase_to_hive\")\n",
    "\n",
    "sql = \"\"\"select m_id as article_id , context as content, platform as channel_name, title,our_tags as channel_tags ,descr as article_describe ,source, source_tags,time as article_time from news_info_update\"\"\"\n",
    "\n",
    "basic_content = oa.spark.sql(sql)"
   ]
  },
  {
   "cell_type": "code",
   "execution_count": 6,
   "metadata": {},
   "outputs": [],
   "source": [
    "basic_content.fillna(\"unknow\")\n",
    "basic_content = basic_content.withColumn('content', strip_n_udf(basic_content.content))\n",
    "basic_content = basic_content.withColumn('article_describe', strip_n_udf(basic_content.article_describe))"
   ]
  },
  {
   "cell_type": "code",
   "execution_count": 7,
   "metadata": {
    "scrolled": false
   },
   "outputs": [],
   "source": [
    "sentence_df = basic_content.select(\"article_id\",\"channel_name\",\"article_describe\", \"channel_tags\",\"title\",\"content\",\"source\",\"source_tags\", F.concat_ws(\n",
    "                                             \",\",\n",
    "                                             basic_content.source_tags,\n",
    "                                             basic_content.channel_name,\n",
    "                                             basic_content.title,\n",
    "                                             basic_content.content\n",
    "                                           ).alias(\"sentence\"), \"article_time\")"
   ]
  },
  {
   "cell_type": "code",
   "execution_count": 8,
   "metadata": {
    "scrolled": false
   },
   "outputs": [],
   "source": [
    "oa.spark.sql(\"use article\")\n",
    "sentence_df.write.insertInto(\"article_data\")"
   ]
  },
  {
   "cell_type": "code",
   "execution_count": 9,
   "metadata": {},
   "outputs": [
    {
     "name": "stdout",
     "output_type": "stream",
     "text": [
      "+--------------------+------------+--------------------+-----------------------------+-------------------+\n",
      "|          article_id|channel_name|        channel_tags|                  source_tags|       article_time|\n",
      "+--------------------+------------+--------------------+-----------------------------+-------------------+\n",
      "|00000982fda1948f4...|      投资界|[ { \"id\" : 7 , \"n...|    [ \"汽车\" , \"新能源\" , ...|2018-04-23 18:53:00|\n",
      "|000039bca765fca66...|      猎云网|[ { \"id\" : 22 , \"...|  [ \"罗永浩\" , \"锤子科技\" ...|2019-04-28 08:46:03|\n",
      "|0000b6f5182e097e8...|      砍柴网|[ { \"id\" : 7 , \"n...|   [ \"特斯拉\" , \"二手车业务\"]|2018-11-20 15:18:00|\n",
      "|0000bca75b0386b06...|      希鸥网|[ { \"id\" : 18 , \"...|                         null|2018-04-08 14:58:00|\n",
      "|0000f7b314fe7970d...|        36氪|[ { \"id\" : 19 , \"...|                         null|2019-02-02 18:41:44|\n",
      "|00019c1868a4ae670...|      投资界|[ { \"id\" : 14 , \"...|  [ \"雅居乐\" , \"消费升级\" ...|2018-08-14 13:42:00|\n",
      "|0001a643f8a623a0c...|      希鸥网|[ { \"id\" : 6 , \"n...|                         null|2019-11-09 10:11:00|\n",
      "|0001c67ae9c818e47...|      猎云网|[ { \"id\" : 5 , \"n...|       [ \"Journal\" , \"搜索...|2018-10-18 16:03:44|\n",
      "|0002d00a0273e73c8...|        亿欧|[ { \"id\" : 8 , \"n...| [ \"公立医院改革\" , \"医生\"...|2018-08-29 12:00:00|\n",
      "|000314168bdf88130...|      投资界|[ { \"id\" : 19 , \"...|  [ \"37度智能家具\" , \"照明...|2019-02-20 16:42:00|\n",
      "|00033465e6868fcbf...|        亿欧|[ { \"id\" : 16 , \"...|  [ \"苏宁物流\" , \"准时达\" ...|2018-05-04 21:12:00|\n",
      "|0003d40b95a019c7d...|      投资界|[ { \"id\" : 6 , \"n...|     [ \"比客\" , \"左驭\" , \"...|2018-04-16 19:31:00|\n",
      "|00047e8d4942862a8...| 新芽NewSeed|[ { \"id\" : 15 , \"...|[ \"人工智能\" , \"自动化设置...|2019-05-27 13:21:00|\n",
      "|00049e1b615f017e9...|        亿欧|[ { \"id\" : 15 , \"...|     [ \"微软\" , \"小冰\" , \"...|2018-09-20 16:37:00|\n",
      "|0004f0d046da399e6...|        亿欧|[ { \"id\" : 18 , \"...| [ \"自动驾驶\" , \"无人驾驶\"...|2019-02-09 08:50:00|\n",
      "|0004f297f3e596aa0...|        亿欧|[ { \"id\" : 15 , \"...|   [ \"少儿编程\" , \"奥数\" ,...|2019-02-04 12:00:00|\n",
      "|0005bc35146c88a95...|        亿欧|[ { \"id\" : 22 , \"...|  [ \"宁德时代\" , \"比亚迪\" ...|2019-05-04 21:40:00|\n",
      "|00064c8187f4fe6a9...|        36氪|[ { \"id\" : 19 , \"...|                         null|2019-12-10 10:00:32|\n",
      "|000676ddec6a8b1eb...|        36氪|[ { \"id\" : 15 , \"...|                         null|2018-11-14 04:07:59|\n",
      "|0006d4a4940e140ec...|        36氪|[ { \"id\" : 13 , \"...|                         null|2019-02-18 08:01:07|\n",
      "+--------------------+------------+--------------------+-----------------------------+-------------------+\n",
      "\n"
     ]
    }
   ],
   "source": [
    "oa.spark.sql(\"select article_id,channel_name,channel_tags,source_tags,article_time  from article_data limit 20\").show()"
   ]
  },
  {
   "cell_type": "code",
   "execution_count": 10,
   "metadata": {},
   "outputs": [],
   "source": [
    "del sentence_df\n",
    "del basic_content"
   ]
  },
  {
   "cell_type": "code",
   "execution_count": 11,
   "metadata": {},
   "outputs": [
    {
     "data": {
      "text/plain": [
       "255"
      ]
     },
     "execution_count": 11,
     "metadata": {},
     "output_type": "execute_result"
    }
   ],
   "source": [
    "gc.collect()"
   ]
  },
  {
   "cell_type": "code",
   "execution_count": 12,
   "metadata": {},
   "outputs": [],
   "source": [
    "oa.spark.stop()"
   ]
  },
  {
   "cell_type": "code",
   "execution_count": 13,
   "metadata": {},
   "outputs": [],
   "source": [
    "from datetime import datetime, timedelta"
   ]
  },
  {
   "cell_type": "code",
   "execution_count": 101,
   "metadata": {},
   "outputs": [],
   "source": [
    "oa.spark.sql(\"use hbase_to_hive\")\n",
    "_yester = datetime.today().replace(hour=0, minute=0, second=0, microsecond=0)\n",
    "start = datetime.strftime(_yester+timedelta(days=-1, hours=0, minutes=0), \"%Y-%m-%d %H:%M:%S\")\n",
    "end = datetime.strftime(_yester, \"%Y-%m-%d %H:%M:%S\")\n",
    "\n",
    "\n",
    "\n",
    "sql = \"\"\"select m_id as article_id , context as content, platform as channel_name, title,our_tags as channel_tags ,descr as article_describe ,source, source_tags \n",
    "         from news_info_update \n",
    "         where time >= '{}' and time < '{}'\"\"\".format(start, end)"
   ]
  },
  {
   "cell_type": "code",
   "execution_count": 104,
   "metadata": {
    "scrolled": false
   },
   "outputs": [
    {
     "name": "stdout",
     "output_type": "stream",
     "text": [
      "+--------------------+-------------------------------------+------------+-------------------------------------+--------------------+-------------------------------------+--------------------+----------------------------+\n",
      "|          article_id|                              content|channel_name|                                title|        channel_tags|                     article_describe|              source|                 source_tags|\n",
      "+--------------------+-------------------------------------+------------+-------------------------------------+--------------------+-------------------------------------+--------------------+----------------------------+\n",
      "|010e71e3fad28cd23...|   12月5日，华为在武汉光谷国际网球...|      IT之家|      华为何刚nova6系列发布会公布2...|[ { \"id\" : 14 , \"...|                                 null|                null|                        null|\n",
      "|0121d6f0a61861fe0...|社交领域一直是互联网公司竞争的一个...|      IT之家|   拥有微信、QQ 两大平台，腾讯为何...|[ { \"id\" : 6 , \"n...|                                 null|            极客公园|                        null|\n",
      "|01cd75e3e73f9baba...|         12月6-8日，为期三天的“201...|        亿欧|     科学家对话丨科技如何实现商业落地|[ { \"id\" : 6 , \"n...|       领先半步是天才，领先一步是疯子|                亿欧|[ \"科学企业家\" , \"自动驾驶\"]|\n",
      "|0265948c30d58bc8e...|又一个万亿市场火了，互联网巨头闻风...|        亿欧|百度、阿里、小米和平安先后入局，这...|[ { \"id\" : 22 , \"...|银行、互联网消费金融公司及持牌消费...|              投中网|  [ \"消费金融\" , \"ABS融资...|\n",
      "|029474b2ce139f9f1...|最不缺社交的腾讯大厂在频频试水新社...|      投资界|             腾讯的社交烦恼有解药吗？|[ { \"id\" : 6 , \"n...|不论是对于腾讯还是其他互联网公司来...|                36氪|    [ \"腾讯\" , \"社交\" , \"...|\n",
      "|032aa7db72b1f031b...| 理财师，是一个特殊的职业。\n",
      "他们离...|      投资界|暴雷潮中的理财师：一单曾提成上百万...|[ { \"id\" : 6 , \"n...|行业经历了十来年的狂奔，如今，终于...|微信公众号：一本财经|    [ \"理财\" , \"行业\" , \"...|\n",
      "|034e4710bd1e2d349...|    本文经授权转自公众号：虎嗅APP(...|      DoNews|                   京沪高铁凭什么赚钱|[ { \"id\" : 9 , \"n...|        2019年10月22日，京沪高速铁...|                null|                        null|\n",
      "|050dbf1f1be9dcf5f...|      IT之家12月9日消息 据外媒报道...|      IT之家|          乔布斯遗作：Apple Park将...|[ { \"id\" : 14 , \"...|                                 null|              IT之家|                        null|\n",
      "|0575fe30b4997ba91...|  猜猜最近企业的IT总监们碰面第一句...|      IT之家|     华为云12.12会员节邀你来狂欢，...|[ { \"id\" : 6 , \"n...|                                 null|                null|                        null|\n",
      "|0635a1ddb4cb5f5e4...| 据《财富》网站报道，桑达尔·皮查伊...|      IT之家| 谷歌前员工夸皮查伊能力强但怕他“作...|[ { \"id\" : 22 , \"...|                                 null|            网易科技|                        null|\n",
      "|069c10da531c521d2...|家，是每个人温馨的港湾，每天下班回...|      IT之家|吸尘器哪个牌子好？智能吸尘器品牌玩...|[ { \"id\" : 19 , \"...|                                 null|                null|                        null|\n",
      "|0738f51b42274e86e...|       据外媒报道，英国Ogury筹集50...|        36氪|      伦敦广告公司「Ogury」再融资5...|[ { \"id\" : 22 , \"...|向消费选择型转变，为广告主提供结局...|                null|                        null|\n",
      "|07a5b8d168b324ac0...|              新芽NewSeed（www.New...| 新芽NewSeed|专注于体育生升学服务，柏木体育获天...|[ { \"id\" : 20 , \"...|    柏木体育成立于2017年，采用线上...|         新芽NewSeed|  [ \"柏木体育\" , \"教育\" ,...|\n",
      "|081443c1a706708a3...|   文章经授权转自公众号： 深几度(I...|      DoNews|                             播客复兴|[ { \"id\" : 5 , \"n...| 声音从来都是一种内容消费的重要形态。|                null|                        null|\n",
      "|088abd5b2fc4e8723...|   来源：映维网 作者 黄颜\n",
      "据报道，...|      砍柴网|         家庭服务巨头Frontdoor收购...|[ { \"id\" : 14 , \"...|                                 null|                null|                     [ \"VR\"]|\n",
      "|0a3cd32ae1f4d8776...|      12 月 4 日，传得沸沸扬扬的国...|    站长之家|             2099 元的国行 Switch ...|[ { \"id\" : 5 , \"n...|                                 null|              爱范儿|        [ \"NintendoSwitch...|\n",
      "|0a686706332e59448...|    2019年的互联网菜场之争，来得浩...|        亿欧|     苏宁菜场，后来者难居上丨亿欧观点|[ { \"id\" : 16 , \"...|接下来，生鲜行业的竞争将持续升级，...|                亿欧|                         [ ]|\n",
      "|0ad209539b7624254...|         「RaySecur」\n",
      "近日，初创公...|        36氪|           「RaySecur」获得300万美...|[ { \"id\" : 22 , \"...|             开心收快递，安心收邮件。|                null|                        null|\n",
      "|0b18e8da7b3becb78...|  近日，水滴筹因为“地推”等现象引起...|    IT时代网|    “美团10号员工”沈鹏创立的水滴筹...|[ { \"id\" : 22 , \"...|                                 null|                null|                        null|\n",
      "|0b7188210d1a8ee06...|随着科技的发展，手机也承担了越来越...|      IT之家|          黑科技Link Turbo能力即将...|[ { \"id\" : 5 , \"n...|                                 null|                null|                        null|\n",
      "+--------------------+-------------------------------------+------------+-------------------------------------+--------------------+-------------------------------------+--------------------+----------------------------+\n",
      "only showing top 20 rows\n",
      "\n"
     ]
    }
   ],
   "source": [
    "oa.spark.sql(sql).show()"
   ]
  },
  {
   "cell_type": "code",
   "execution_count": null,
   "metadata": {},
   "outputs": [],
   "source": [
    "\n"
   ]
  }
 ],
 "metadata": {
  "kernelspec": {
   "display_name": "Python 3",
   "language": "python",
   "name": "python3"
  },
  "language_info": {
   "codemirror_mode": {
    "name": "ipython",
    "version": 3
   },
   "file_extension": ".py",
   "mimetype": "text/x-python",
   "name": "python",
   "nbconvert_exporter": "python",
   "pygments_lexer": "ipython3",
   "version": "3.7.5"
  }
 },
 "nbformat": 4,
 "nbformat_minor": 2
}
