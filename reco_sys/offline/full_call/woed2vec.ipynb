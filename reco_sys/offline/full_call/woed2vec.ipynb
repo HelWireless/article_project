{
 "cells": [
  {
   "cell_type": "code",
   "execution_count": 1,
   "metadata": {},
   "outputs": [],
   "source": [
    "import os\n",
    "import sys\n",
    "# 如果当前代码文件运行测试需要加入修改路径，避免出现后导包问题\n",
    "BASE_DIR = os.path.dirname(os.path.dirname(os.getcwd()))\n",
    "sys.path.insert(0, os.path.join(BASE_DIR))\n",
    "PYSPARK_PYTHON = \"/opt/anaconda3/envs/rec_sys/bin/python\"\n",
    "\n",
    "# 当存在多个版本时，不指定很可能会导致出错\n",
    "os.environ[\"PYSPARK_PYTHON\"] = PYSPARK_PYTHON\n",
    "os.environ[\"PYSPARK_DRIVER_PYTHON\"] = PYSPARK_PYTHON\n",
    "\n",
    "\n",
    "from offline import SparkSessionBase\n",
    "from offline import SparkSessionBase\n",
    "from pyspark.ml.feature import Word2Vec\n",
    "\n",
    "\n",
    "\n",
    "class TrainWord2VecModel(SparkSessionBase):\n",
    "\n",
    "    SPARK_APP_NAME = \"Word2Vec\"\n",
    "    SPARK_URL = \"yarn\"\n",
    "    \n",
    "    ENABLE_HIVE_SUPPORT = True\n",
    "\n",
    "    def __init__(self):\n",
    "        self.spark = self._create_spark_session()\n",
    "\n",
    "\n",
    "w2v = TrainWord2VecModel()"
   ]
  },
  {
   "cell_type": "code",
   "execution_count": 2,
   "metadata": {},
   "outputs": [
    {
     "data": {
      "text/plain": [
       "DataFrame[]"
      ]
     },
     "execution_count": 2,
     "metadata": {},
     "output_type": "execute_result"
    }
   ],
   "source": [
    "w2v.spark.sql(\"use article\")"
   ]
  },
  {
   "cell_type": "code",
   "execution_count": 55,
   "metadata": {},
   "outputs": [],
   "source": [
    "w2v.spark.conf.set(\"spark.kryoserializer.buffer.max\",4)"
   ]
  },
  {
   "cell_type": "code",
   "execution_count": 57,
   "metadata": {},
   "outputs": [
    {
     "data": {
      "text/plain": [
       "'4'"
      ]
     },
     "execution_count": 57,
     "metadata": {},
     "output_type": "execute_result"
    }
   ],
   "source": [
    "w2v.spark.conf.get(\"spark.kryoserializer.buffer.max\")"
   ]
  },
  {
   "cell_type": "code",
   "execution_count": 9,
   "metadata": {},
   "outputs": [],
   "source": [
    "article = w2v.spark.sql(\"select * from article_data  limit 10\")"
   ]
  },
  {
   "cell_type": "code",
   "execution_count": 10,
   "metadata": {},
   "outputs": [],
   "source": [
    "import codecs\n",
    "global stopwords_list\n",
    "stopwords_path = \"/home/data/etc/stop_words.txt\"\n",
    "stopwords_list = [i.strip() for i in codecs.open(stopwords_path).readlines()]"
   ]
  },
  {
   "cell_type": "code",
   "execution_count": 11,
   "metadata": {},
   "outputs": [],
   "source": [
    "def segmentation(partition):\n",
    "    import jieba\n",
    "    import os\n",
    "    import jieba.posseg as pseg\n",
    "    import re\n",
    "     \n",
    "    \n",
    "    # 分词\n",
    "    def cut_sentence(sentence):\n",
    "        \"\"\"对切割之后的词语进行过滤，去除停用词，保留名词，英文和自定义词库中的词，长度大于2的词\"\"\"\n",
    "        # print(sentence,\"*\"*100)\n",
    "        # eg:[pair('今天', 't'), pair('有', 'd'), pair('雾', 'n'), pair('霾', 'g')]\n",
    "        seg_list = pseg.lcut(sentence)\n",
    "        seg_list = [i for i in seg_list if i.flag not in stopwords_list]\n",
    "        filtered_words_list = []\n",
    "        for seg in seg_list:\n",
    "            # print(seg)\n",
    "            if len(seg.word) <= 1:\n",
    "                continue\n",
    "            elif seg.flag == \"eng\":\n",
    "                if len(seg.word) <= 2:\n",
    "                    continue\n",
    "                else:\n",
    "                    filtered_words_list.append(seg.word)\n",
    "            elif seg.flag.startswith(\"n\"):\n",
    "                filtered_words_list.append(seg.word)\n",
    "            elif seg.flag in [\"x\", \"eng\"]:  # 是自定一个词语或者是英文单词\n",
    "                filtered_words_list.append(seg.word)\n",
    "        return filtered_words_list\n",
    "    \n",
    "    for row in partition:\n",
    "        sentence = re.sub(\"<.*?>\", \"\", row.sentence)    # 替换掉标签数据\n",
    "        words = cut_sentence(sentence)\n",
    "        yield row.article_id, row.channel_name, words"
   ]
  },
  {
   "cell_type": "code",
   "execution_count": 12,
   "metadata": {},
   "outputs": [],
   "source": [
    "word_df = article.rdd.mapPartitions(segmentation).toDF([\"article_id\", \"channle_name\", \"words\"])"
   ]
  },
  {
   "cell_type": "code",
   "execution_count": 13,
   "metadata": {},
   "outputs": [],
   "source": [
    "w2v_model = Word2Vec(vectorSize=100, inputCol=\"words\", outputCol=\"model\", minCount=3, windowSize=5)"
   ]
  },
  {
   "cell_type": "code",
   "execution_count": 14,
   "metadata": {
    "scrolled": false
   },
   "outputs": [],
   "source": [
    "new_w2v_model = w2v_model.fit(word_df)\n",
    "new_w2v_model.save('hdfs://192.168.0.52:8020/models/w2v_test2.model')"
   ]
  },
  {
   "cell_type": "code",
   "execution_count": 74,
   "metadata": {},
   "outputs": [],
   "source": [
    "from pyspark.ml.feature import Word2VecModel\n",
    "wv_model = Word2VecModel.load(\n",
    "                \"hdfs://192.168.0.52:8020/models/w2v_test2.model\")\n",
    "vectors = wv_model.getVectors()"
   ]
  },
  {
   "cell_type": "code",
   "execution_count": 102,
   "metadata": {},
   "outputs": [],
   "source": [
    "# 增量更新\n",
    "from datetime import timedelta,datetime\n",
    "\n",
    "_yester = datetime.today().replace(hour=0, minute=0, second=0, microsecond=0)\n",
    "start = datetime.strftime(_yester+timedelta(days=-2, hours=0, minutes=0), \"%Y-%m-%d %H:%M:%S\")\n",
    "end = datetime.strftime(_yester, \"%Y-%m-%d %H:%M:%S\")\n",
    "\n",
    "Incremental_article_sql = \"select article_id, channel_name, keywords, weights from article_profile LATERAL VIEW explode(keyword) AS keywords,weights where article_time >= '{}' and article_time < '{}' \".format(start, end)\n"
   ]
  },
  {
   "cell_type": "code",
   "execution_count": 103,
   "metadata": {},
   "outputs": [
    {
     "data": {
      "text/plain": [
       "\"select article_id, channel_name, keywords, weights from article_profile LATERAL VIEW explode(keyword) AS keywords,weights where article_time >= '2019-12-10 00:00:00' and article_time < '2019-12-12 00:00:00' \""
      ]
     },
     "execution_count": 103,
     "metadata": {},
     "output_type": "execute_result"
    }
   ],
   "source": [
    "Incremental_article_sql"
   ]
  },
  {
   "cell_type": "code",
   "execution_count": 107,
   "metadata": {
    "scrolled": false
   },
   "outputs": [],
   "source": [
    "articleKeywordsWeights = w2v.spark.sql(Incremental_article_sql)"
   ]
  },
  {
   "cell_type": "code",
   "execution_count": 90,
   "metadata": {},
   "outputs": [
    {
     "data": {
      "text/plain": [
       "DataFrame[article_id: string, channel_name: string, keyword: map<string,double>, topics: array<string>, article_time: string]"
      ]
     },
     "execution_count": 90,
     "metadata": {},
     "output_type": "execute_result"
    }
   ],
   "source": [
    "w2v.spark.sql(\"select * from article_profile limit 1\")"
   ]
  },
  {
   "cell_type": "code",
   "execution_count": 108,
   "metadata": {},
   "outputs": [],
   "source": [
    "_article_profile = articleKeywordsWeights.join(vectors, vectors.word==articleKeywordsWeights.keywords, \"inner\")"
   ]
  },
  {
   "cell_type": "code",
   "execution_count": 109,
   "metadata": {},
   "outputs": [],
   "source": [
    "articleKeywordVectors = _article_profile.rdd.map(lambda row: (row.article_id, row.channel_name, row.keywords, row.weights * row.vector)).toDF([\"article_id\", \"channel_name\", \"keyword\", \"weightingVector\"])"
   ]
  },
  {
   "cell_type": "code",
   "execution_count": 110,
   "metadata": {},
   "outputs": [],
   "source": [
    "def avg(row):\n",
    "    x = 0\n",
    "    for v in row.vectors:\n",
    "        x += v\n",
    "    #  将平均向量作为article的向量\n",
    "    return row.article_id, row.channel_name, x / len(row.vectors)\n",
    "\n",
    "articleKeywordVectors.registerTempTable(\"tempTable\")\n",
    "articleVector = w2v.spark.sql(\n",
    "    \"select article_id, min(channel_name) channel_name, collect_set(weightingVector) vectors from tempTable group by article_id\").rdd.map(\n",
    "    avg).toDF([\"article_id\", \"channel_name\", \"articleVector\"])"
   ]
  },
  {
   "cell_type": "code",
   "execution_count": 111,
   "metadata": {},
   "outputs": [],
   "source": [
    "def toArray(row):\n",
    "    return row.article_id, row.channel_name, [float(i) for i in row.articleVector.toArray()]\n",
    "\n",
    "articleVector = articleVector.rdd.map(toArray).toDF(['article_id', 'channel_name', 'articleVector'])"
   ]
  },
  {
   "cell_type": "code",
   "execution_count": 112,
   "metadata": {},
   "outputs": [],
   "source": [
    "articleVector.write.insertInto(\"article_vector\")"
   ]
  },
  {
   "cell_type": "code",
   "execution_count": 113,
   "metadata": {},
   "outputs": [
    {
     "name": "stdout",
     "output_type": "stream",
     "text": [
      "+--------------------+------------+--------------------+\n",
      "|          article_id|channel_name|       articlevector|\n",
      "+--------------------+------------+--------------------+\n",
      "|4ffe1e9b40e001aa1...|      砍柴网|[0.29118859694804...|\n",
      "+--------------------+------------+--------------------+\n",
      "\n"
     ]
    }
   ],
   "source": [
    "w2v.spark.sql(\"select * from article_vector limit 1\").show()"
   ]
  },
  {
   "cell_type": "code",
   "execution_count": null,
   "metadata": {},
   "outputs": [],
   "source": []
  },
  {
   "cell_type": "code",
   "execution_count": null,
   "metadata": {},
   "outputs": [],
   "source": []
  }
 ],
 "metadata": {
  "kernelspec": {
   "display_name": "Python 3",
   "language": "python",
   "name": "python3"
  },
  "language_info": {
   "codemirror_mode": {
    "name": "ipython",
    "version": 3
   },
   "file_extension": ".py",
   "mimetype": "text/x-python",
   "name": "python",
   "nbconvert_exporter": "python",
   "pygments_lexer": "ipython3",
   "version": "3.7.5"
  }
 },
 "nbformat": 4,
 "nbformat_minor": 2
}
